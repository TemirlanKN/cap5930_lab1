{
 "cells": [
  {
   "cell_type": "code",
   "execution_count": 2,
   "id": "26cff084-8abe-49bf-9fa6-347ddb5b20d8",
   "metadata": {},
   "outputs": [
    {
     "name": "stdout",
     "output_type": "stream",
     "text": [
      " * Serving Flask app '__main__'\n",
      " * Debug mode: on\n"
     ]
    },
    {
     "name": "stderr",
     "output_type": "stream",
     "text": [
      "WARNING: This is a development server. Do not use it in a production deployment. Use a production WSGI server instead.\n",
      " * Running on http://127.0.0.1:5000\n",
      "Press CTRL+C to quit\n",
      " * Restarting with stat\n"
     ]
    },
    {
     "ename": "SystemExit",
     "evalue": "1",
     "output_type": "error",
     "traceback": [
      "An exception has occurred, use %tb to see the full traceback.\n",
      "\u001b[1;31mSystemExit\u001b[0m\u001b[1;31m:\u001b[0m 1\n"
     ]
    }
   ],
   "source": [
    "from datetime import datetime\n",
    "\n",
    "from flask import Flask, render_template, request, redirect, url_for, send_file, send_from_directory\n",
    "from werkzeug.utils import secure_filename\n",
    "\n",
    "import os\n",
    "\n",
    "app = Flask(__name__)\n",
    "\n",
    "# Configure upload folder\n",
    "UPLOAD_FOLDER = 'uploads'\n",
    "ALLOWED_EXTENSIONS = {'wav'}\n",
    "app.config['UPLOAD_FOLDER'] = UPLOAD_FOLDER\n",
    "\n",
    "os.makedirs(UPLOAD_FOLDER, exist_ok=True)\n",
    "\n",
    "def allowed_file(filename):\n",
    "    return '.' in filename and \\\n",
    "           filename.rsplit('.', 1)[1].lower() in ALLOWED_EXTENSIONS\n",
    "\n",
    "def get_files():\n",
    "    files = []\n",
    "    for filename in os.listdir(UPLOAD_FOLDER):\n",
    "        if allowed_file(filename):\n",
    "            files.append(filename)\n",
    "            print(filename)\n",
    "    files.sort(reverse=True)\n",
    "    return files\n",
    "\n",
    "@app.route('/')\n",
    "def index():\n",
    "    files = get_files()\n",
    "    return render_template('index.html', files=files)\n",
    "\n",
    "@app.route('/upload', methods=['POST'])\n",
    "def upload_audio():\n",
    "    if 'audio_data' not in request.files:\n",
    "        flash('No audio data')\n",
    "        return redirect(request.url)\n",
    "    file = request.files['audio_data']\n",
    "    if file.filename == '':\n",
    "        flash('No selected file')\n",
    "        return redirect(request.url)\n",
    "    if file:\n",
    "        # filename = secure_filename(file.filename)\n",
    "        filename = datetime.now().strftime(\"%Y%m%d-%I%M%S%p\") + '.wav'\n",
    "        file_path = os.path.join(app.config['UPLOAD_FOLDER'], filename)\n",
    "        file.save(file_path)\n",
    "\n",
    "        #\n",
    "        #\n",
    "        # Modify this block to call the speech to text API\n",
    "        # Save transcript to same filename but .txt\n",
    "        #\n",
    "        #\n",
    "\n",
    "    return redirect('/') #success\n",
    "\n",
    "@app.route('/upload/<filename>')\n",
    "def get_file(filename):\n",
    "    return send_file(filename)\n",
    "\n",
    "    \n",
    "@app.route('/upload_text', methods=['POST'])\n",
    "def upload_text():\n",
    "    text = request.form['text']\n",
    "    print(text)\n",
    "    #\n",
    "    #\n",
    "    # Modify this block to call the stext to speech API\n",
    "    # Save the output as a audio file in the 'tts' directory \n",
    "    # Display the audio files at the bottom and allow the user to listen to them\n",
    "    #\n",
    "\n",
    "    return redirect('/') #success\n",
    "\n",
    "@app.route('/script.js',methods=['GET'])\n",
    "def scripts_js():\n",
    "    return send_file('./script.js')\n",
    "\n",
    "@app.route('/uploads/<filename>')\n",
    "def uploaded_file(filename):\n",
    "    return send_from_directory(app.config['UPLOAD_FOLDER'], filename)\n",
    "\n",
    "if __name__ == '__main__':\n",
    "    app.run(debug=True)"
   ]
  }
 ],
 "metadata": {
  "kernelspec": {
   "display_name": "Python 3 (ipykernel)",
   "language": "python",
   "name": "python3"
  },
  "language_info": {
   "codemirror_mode": {
    "name": "ipython",
    "version": 3
   },
   "file_extension": ".py",
   "mimetype": "text/x-python",
   "name": "python",
   "nbconvert_exporter": "python",
   "pygments_lexer": "ipython3",
   "version": "3.7.9"
  }
 },
 "nbformat": 4,
 "nbformat_minor": 5
}
